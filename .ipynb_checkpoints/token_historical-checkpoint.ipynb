{
 "cells": [
  {
   "cell_type": "code",
   "execution_count": 152,
   "metadata": {},
   "outputs": [],
   "source": [
    "import logging\n",
    "from kiteconnect import KiteConnect\n",
    "from kiteconnect import KiteTicker\n",
    "import numpy as np\n",
    "import pandas as pd\n",
    "from datetime import datetime, timedelta"
   ]
  },
  {
   "cell_type": "code",
   "execution_count": 153,
   "metadata": {},
   "outputs": [],
   "source": [
    "logging.basicConfig(level=logging.DEBUG)"
   ]
  },
  {
   "cell_type": "code",
   "execution_count": 154,
   "metadata": {},
   "outputs": [],
   "source": [
    "api_key = \"cv395he4v7cddp2e\"\n",
    "api_secret = \"sya7vmshqw8m51r7x7s8bqztdi2al1wh\""
   ]
  },
  {
   "cell_type": "code",
   "execution_count": 155,
   "metadata": {},
   "outputs": [],
   "source": [
    "kite = KiteConnect(api_key= api_key)"
   ]
  },
  {
   "cell_type": "code",
   "execution_count": 201,
   "metadata": {},
   "outputs": [
    {
     "data": {
      "text/plain": [
       "'https://kite.trade/connect/login?api_key=cv395he4v7cddp2e&v=3'"
      ]
     },
     "execution_count": 201,
     "metadata": {},
     "output_type": "execute_result"
    }
   ],
   "source": [
    "kite.login_url()"
   ]
  },
  {
   "cell_type": "code",
   "execution_count": null,
   "metadata": {},
   "outputs": [],
   "source": [
    "sLZ5b4HUpXs6pAIi6azADv1v53Gc8q9X"
   ]
  },
  {
   "cell_type": "code",
   "execution_count": 203,
   "metadata": {},
   "outputs": [
    {
     "name": "stderr",
     "output_type": "stream",
     "text": [
      "DEBUG:urllib3.connectionpool:Starting new HTTPS connection (1): api.kite.trade:443\n",
      "DEBUG:urllib3.connectionpool:https://api.kite.trade:443 \"POST /session/token HTTP/1.1\" 200 None\n"
     ]
    }
   ],
   "source": [
    "data = kite.generate_session(request_token = \"72i94OV539o5LYmrzSumYi2wk7ETkluW\", api_secret=api_secret)"
   ]
  },
  {
   "cell_type": "code",
   "execution_count": 204,
   "metadata": {},
   "outputs": [
    {
     "data": {
      "text/plain": [
       "{'user_type': 'individual',\n",
       " 'email': 'snehadeepguha@gmail.com',\n",
       " 'user_name': 'Snehadeep Guha',\n",
       " 'user_shortname': 'Snehadeep',\n",
       " 'broker': 'ZERODHA',\n",
       " 'exchanges': ['MF', 'NSE', 'BSE', 'CDS', 'NFO'],\n",
       " 'products': ['CNC', 'NRML', 'MIS', 'BO', 'CO'],\n",
       " 'order_types': ['MARKET', 'LIMIT', 'SL', 'SL-M'],\n",
       " 'avatar_url': '',\n",
       " 'meta': {'features': ['20depth']},\n",
       " 'user_id': 'PS3784',\n",
       " 'api_key': 'cv395he4v7cddp2e',\n",
       " 'access_token': 'qGcyn4jL28NQNk3zS8hV2mYhHa6mBM0e',\n",
       " 'public_token': '1IwHjM2iwy9zUgRuO6R74XVFQPBAnA1E',\n",
       " 'refresh_token': '',\n",
       " 'login_time': datetime.datetime(2019, 11, 9, 8, 7, 9)}"
      ]
     },
     "execution_count": 204,
     "metadata": {},
     "output_type": "execute_result"
    }
   ],
   "source": [
    "data"
   ]
  },
  {
   "cell_type": "code",
   "execution_count": 205,
   "metadata": {},
   "outputs": [],
   "source": [
    "kite.set_access_token(\"data[\"access_token\"]\")"
   ]
  },
  {
   "cell_type": "code",
   "execution_count": 290,
   "metadata": {},
   "outputs": [],
   "source": [
    "#3 min data\n",
    "\n",
    "def historical_data(symbol, token, interval, path):\n",
    "    \n",
    "    #function returns a csv file \n",
    "    #parameters required\n",
    "    #symbol of scrip , ex. symbol = \"infy\"\n",
    "    #token = trading token for each scrip, for ex. for infosys, token = 408065\n",
    "    #interval = interval for which data is equired, for ex. interval = \"3minute\"\n",
    "    #path = path in which you want to download data, dont add csv etc, for ex, path = \"/Users/prateekagrawal/kite/historical_data/\"\n",
    "    \n",
    "    \n",
    "    scrip_data = []\n",
    "\n",
    "\n",
    "    startdate = \"05/05/2015\"\n",
    "    enddate = ''\n",
    "    startdate = pd.to_datetime(startdate)\n",
    "    #taking data in interval of 60 days\n",
    "    i = 60\n",
    "    #we will need 27 iterations to reach to the 6th november date\n",
    "    \n",
    "    for j in range(27):\n",
    "        enddate = pd.to_datetime(startdate) + pd.DateOffset(days=i)\n",
    "        returned_data = kite.historical_data(token, startdate, enddate, interval)\n",
    "        scrip_data.extend(returned_data)\n",
    "        startdate = enddate + pd.DateOffset(days=1)\n",
    "        \n",
    "    print(startdate, enddate)\n",
    "    scrip_data = pd.DataFrame(scrip_data)    \n",
    "    return scrip_data.to_csv(path_or_buf = path + symbol + \"_\" + interval  + \".csv\", index = \"False\")"
   ]
  },
  {
   "cell_type": "code",
   "execution_count": null,
   "metadata": {},
   "outputs": [],
   "source": [
    "#sample request from function\n",
    "#historical_data(symbol = \"infy\", token = \"408065\", interval = \"3minute\", path = \"/Users/prateekagrawal/Downloads/\")"
   ]
  },
  {
   "cell_type": "code",
   "execution_count": null,
   "metadata": {},
   "outputs": [],
   "source": [
    "#normal request\n",
    "#infy_data = kite.historical_data(408065, \"2015-03-01 12:00:00\", \"2015-04-01 12:00:00\", \"15minute\")"
   ]
  },
  {
   "cell_type": "code",
   "execution_count": null,
   "metadata": {},
   "outputs": [],
   "source": [
    "#to check list of instruments and type\n",
    "\n",
    "# instruments = kite.instruments()\n",
    "# instruments = pd.DataFrame(instruments)\n",
    "# set(instruments[\"instrument_type\"]) \n"
   ]
  },
  {
   "cell_type": "code",
   "execution_count": null,
   "metadata": {},
   "outputs": [],
   "source": [
    "#check margins\n",
    "#kite.margins()"
   ]
  },
  {
   "cell_type": "code",
   "execution_count": null,
   "metadata": {},
   "outputs": [],
   "source": [
    "#kite.place_order(tradingsymbol=\"INFY\",\n",
    " #                               exchange=kite.EXCHANGE_NSE,\n",
    "  #                              transaction_type=kite.TRANSACTION_TYPE_BUY,\n",
    "   #                             quantity=1,\n",
    "    #                            order_type=kite.ORDER_TYPE_MARKET,\n",
    "     #                           product=kite.PRODUCT_NRML,\n",
    "      #                          variety = \"Regular\")"
   ]
  },
  {
   "cell_type": "code",
   "execution_count": 291,
   "metadata": {},
   "outputs": [
    {
     "name": "stderr",
     "output_type": "stream",
     "text": [
      "DEBUG:urllib3.connectionpool:Starting new HTTPS connection (1): api.kite.trade:443\n",
      "DEBUG:urllib3.connectionpool:https://api.kite.trade:443 \"GET /instruments/historical/408065/minute?instrument_token=408065&from=2015-05-05+00%3A00%3A00&to=2015-07-04+00%3A00%3A00&interval=minute&continuous=0 HTTP/1.1\" 200 261182\n",
      "DEBUG:urllib3.connectionpool:Starting new HTTPS connection (1): api.kite.trade:443\n",
      "DEBUG:urllib3.connectionpool:https://api.kite.trade:443 \"GET /instruments/historical/408065/minute?instrument_token=408065&from=2015-07-05+00%3A00%3A00&to=2015-09-03+00%3A00%3A00&interval=minute&continuous=0 HTTP/1.1\" 200 259206\n",
      "DEBUG:urllib3.connectionpool:Starting new HTTPS connection (1): api.kite.trade:443\n",
      "DEBUG:urllib3.connectionpool:https://api.kite.trade:443 \"GET /instruments/historical/408065/minute?instrument_token=408065&from=2015-09-04+00%3A00%3A00&to=2015-11-03+00%3A00%3A00&interval=minute&continuous=0 HTTP/1.1\" 200 227258\n",
      "DEBUG:urllib3.connectionpool:Starting new HTTPS connection (1): api.kite.trade:443\n",
      "DEBUG:urllib3.connectionpool:https://api.kite.trade:443 \"GET /instruments/historical/408065/minute?instrument_token=408065&from=2015-11-04+00%3A00%3A00&to=2016-01-03+00%3A00%3A00&interval=minute&continuous=0 HTTP/1.1\" 200 223504\n",
      "DEBUG:urllib3.connectionpool:Starting new HTTPS connection (1): api.kite.trade:443\n",
      "DEBUG:urllib3.connectionpool:https://api.kite.trade:443 \"GET /instruments/historical/408065/minute?instrument_token=408065&from=2016-01-04+00%3A00%3A00&to=2016-03-04+00%3A00%3A00&interval=minute&continuous=0 HTTP/1.1\" 200 257571\n",
      "DEBUG:urllib3.connectionpool:Starting new HTTPS connection (1): api.kite.trade:443\n",
      "DEBUG:urllib3.connectionpool:https://api.kite.trade:443 \"GET /instruments/historical/408065/minute?instrument_token=408065&from=2016-03-05+00%3A00%3A00&to=2016-05-04+00%3A00%3A00&interval=minute&continuous=0 HTTP/1.1\" 200 215517\n",
      "DEBUG:urllib3.connectionpool:Starting new HTTPS connection (1): api.kite.trade:443\n",
      "DEBUG:urllib3.connectionpool:https://api.kite.trade:443 \"GET /instruments/historical/408065/minute?instrument_token=408065&from=2016-05-05+00%3A00%3A00&to=2016-07-04+00%3A00%3A00&interval=minute&continuous=0 HTTP/1.1\" 200 246849\n",
      "DEBUG:urllib3.connectionpool:Starting new HTTPS connection (1): api.kite.trade:443\n",
      "DEBUG:urllib3.connectionpool:https://api.kite.trade:443 \"GET /instruments/historical/408065/minute?instrument_token=408065&from=2016-07-05+00%3A00%3A00&to=2016-09-03+00%3A00%3A00&interval=minute&continuous=0 HTTP/1.1\" 200 244491\n",
      "DEBUG:urllib3.connectionpool:Starting new HTTPS connection (1): api.kite.trade:443\n",
      "DEBUG:urllib3.connectionpool:https://api.kite.trade:443 \"GET /instruments/historical/408065/minute?instrument_token=408065&from=2016-09-04+00%3A00%3A00&to=2016-11-03+00%3A00%3A00&interval=minute&continuous=0 HTTP/1.1\" 200 217585\n",
      "DEBUG:urllib3.connectionpool:Starting new HTTPS connection (1): api.kite.trade:443\n",
      "DEBUG:urllib3.connectionpool:https://api.kite.trade:443 \"GET /instruments/historical/408065/minute?instrument_token=408065&from=2016-11-04+00%3A00%3A00&to=2017-01-03+00%3A00%3A00&interval=minute&continuous=0 HTTP/1.1\" 200 239270\n",
      "DEBUG:urllib3.connectionpool:Starting new HTTPS connection (1): api.kite.trade:443\n",
      "DEBUG:urllib3.connectionpool:https://api.kite.trade:443 \"GET /instruments/historical/408065/minute?instrument_token=408065&from=2017-01-04+00%3A00%3A00&to=2017-03-05+00%3A00%3A00&interval=minute&continuous=0 HTTP/1.1\" 200 238004\n",
      "DEBUG:urllib3.connectionpool:Starting new HTTPS connection (1): api.kite.trade:443\n",
      "DEBUG:urllib3.connectionpool:https://api.kite.trade:443 \"GET /instruments/historical/408065/minute?instrument_token=408065&from=2017-03-06+00%3A00%3A00&to=2017-05-05+00%3A00%3A00&interval=minute&continuous=0 HTTP/1.1\" 200 229147\n",
      "DEBUG:urllib3.connectionpool:Starting new HTTPS connection (1): api.kite.trade:443\n",
      "DEBUG:urllib3.connectionpool:https://api.kite.trade:443 \"GET /instruments/historical/408065/minute?instrument_token=408065&from=2017-05-06+00%3A00%3A00&to=2017-07-05+00%3A00%3A00&interval=minute&continuous=0 HTTP/1.1\" 200 237138\n",
      "DEBUG:urllib3.connectionpool:Starting new HTTPS connection (1): api.kite.trade:443\n",
      "DEBUG:urllib3.connectionpool:https://api.kite.trade:443 \"GET /instruments/historical/408065/minute?instrument_token=408065&from=2017-07-06+00%3A00%3A00&to=2017-09-04+00%3A00%3A00&interval=minute&continuous=0 HTTP/1.1\" 200 232155\n",
      "DEBUG:urllib3.connectionpool:Starting new HTTPS connection (1): api.kite.trade:443\n",
      "DEBUG:urllib3.connectionpool:https://api.kite.trade:443 \"GET /instruments/historical/408065/minute?instrument_token=408065&from=2017-09-05+00%3A00%3A00&to=2017-11-04+00%3A00%3A00&interval=minute&continuous=0 HTTP/1.1\" 200 231834\n",
      "DEBUG:urllib3.connectionpool:Starting new HTTPS connection (1): api.kite.trade:443\n",
      "DEBUG:urllib3.connectionpool:https://api.kite.trade:443 \"GET /instruments/historical/408065/minute?instrument_token=408065&from=2017-11-05+00%3A00%3A00&to=2018-01-04+00%3A00%3A00&interval=minute&continuous=0 HTTP/1.1\" 200 243813\n",
      "DEBUG:urllib3.connectionpool:Starting new HTTPS connection (1): api.kite.trade:443\n",
      "DEBUG:urllib3.connectionpool:https://api.kite.trade:443 \"GET /instruments/historical/408065/minute?instrument_token=408065&from=2018-01-05+00%3A00%3A00&to=2018-03-06+00%3A00%3A00&interval=minute&continuous=0 HTTP/1.1\" 200 235434\n",
      "DEBUG:urllib3.connectionpool:Starting new HTTPS connection (1): api.kite.trade:443\n",
      "DEBUG:urllib3.connectionpool:https://api.kite.trade:443 \"GET /instruments/historical/408065/minute?instrument_token=408065&from=2018-03-07+00%3A00%3A00&to=2018-05-06+00%3A00%3A00&interval=minute&continuous=0 HTTP/1.1\" 200 239272\n",
      "DEBUG:urllib3.connectionpool:Starting new HTTPS connection (1): api.kite.trade:443\n",
      "DEBUG:urllib3.connectionpool:https://api.kite.trade:443 \"GET /instruments/historical/408065/minute?instrument_token=408065&from=2018-05-07+00%3A00%3A00&to=2018-07-06+00%3A00%3A00&interval=minute&continuous=0 HTTP/1.1\" 200 260801\n",
      "DEBUG:urllib3.connectionpool:Starting new HTTPS connection (1): api.kite.trade:443\n",
      "DEBUG:urllib3.connectionpool:https://api.kite.trade:443 \"GET /instruments/historical/408065/minute?instrument_token=408065&from=2018-07-07+00%3A00%3A00&to=2018-09-05+00%3A00%3A00&interval=minute&continuous=0 HTTP/1.1\" 200 240661\n",
      "DEBUG:urllib3.connectionpool:Starting new HTTPS connection (1): api.kite.trade:443\n",
      "DEBUG:urllib3.connectionpool:https://api.kite.trade:443 \"GET /instruments/historical/408065/minute?instrument_token=408065&from=2018-09-06+00%3A00%3A00&to=2018-11-05+00%3A00%3A00&interval=minute&continuous=0 HTTP/1.1\" 200 226430\n",
      "DEBUG:urllib3.connectionpool:Starting new HTTPS connection (1): api.kite.trade:443\n",
      "DEBUG:urllib3.connectionpool:https://api.kite.trade:443 \"GET /instruments/historical/408065/minute?instrument_token=408065&from=2018-11-06+00%3A00%3A00&to=2019-01-05+00%3A00%3A00&interval=minute&continuous=0 HTTP/1.1\" 200 233524\n",
      "DEBUG:urllib3.connectionpool:Starting new HTTPS connection (1): api.kite.trade:443\n",
      "DEBUG:urllib3.connectionpool:https://api.kite.trade:443 \"GET /instruments/historical/408065/minute?instrument_token=408065&from=2019-01-06+00%3A00%3A00&to=2019-03-07+00%3A00%3A00&interval=minute&continuous=0 HTTP/1.1\" 200 245688\n",
      "DEBUG:urllib3.connectionpool:Starting new HTTPS connection (1): api.kite.trade:443\n",
      "DEBUG:urllib3.connectionpool:https://api.kite.trade:443 \"GET /instruments/historical/408065/minute?instrument_token=408065&from=2019-03-08+00%3A00%3A00&to=2019-05-07+00%3A00%3A00&interval=minute&continuous=0 HTTP/1.1\" 200 215009\n",
      "DEBUG:urllib3.connectionpool:Starting new HTTPS connection (1): api.kite.trade:443\n",
      "DEBUG:urllib3.connectionpool:https://api.kite.trade:443 \"GET /instruments/historical/408065/minute?instrument_token=408065&from=2019-05-08+00%3A00%3A00&to=2019-07-07+00%3A00%3A00&interval=minute&continuous=0 HTTP/1.1\" 200 240887\n",
      "DEBUG:urllib3.connectionpool:Starting new HTTPS connection (1): api.kite.trade:443\n",
      "DEBUG:urllib3.connectionpool:https://api.kite.trade:443 \"GET /instruments/historical/408065/minute?instrument_token=408065&from=2019-07-08+00%3A00%3A00&to=2019-09-06+00%3A00%3A00&interval=minute&continuous=0 HTTP/1.1\" 200 241209\n",
      "DEBUG:urllib3.connectionpool:Starting new HTTPS connection (1): api.kite.trade:443\n",
      "DEBUG:urllib3.connectionpool:https://api.kite.trade:443 \"GET /instruments/historical/408065/minute?instrument_token=408065&from=2019-09-07+00%3A00%3A00&to=2019-11-06+00%3A00%3A00&interval=minute&continuous=0 HTTP/1.1\" 200 220221\n"
     ]
    },
    {
     "name": "stdout",
     "output_type": "stream",
     "text": [
      "2019-11-07 00:00:00 2019-11-06 00:00:00\n"
     ]
    }
   ],
   "source": [
    "historical_data(symbol = \"infy\", token = \"408065\", interval = \"minute\", path = \"/Users/prateekagrawal/kite/historical_data/\")"
   ]
  },
  {
   "cell_type": "code",
   "execution_count": 292,
   "metadata": {},
   "outputs": [],
   "source": [
    "infy_minute = pd.read_csv(\"/Users/prateekagrawal/kite/historical_data/infy_minute.csv\")"
   ]
  },
  {
   "cell_type": "code",
   "execution_count": 296,
   "metadata": {},
   "outputs": [
    {
     "data": {
      "text/plain": [
       "(408796, 7)"
      ]
     },
     "execution_count": 296,
     "metadata": {},
     "output_type": "execute_result"
    }
   ],
   "source": [
    "infy_minute.shape"
   ]
  }
 ],
 "metadata": {
  "kernelspec": {
   "display_name": "Python 3",
   "language": "python",
   "name": "python3"
  },
  "language_info": {
   "codemirror_mode": {
    "name": "ipython",
    "version": 3
   },
   "file_extension": ".py",
   "mimetype": "text/x-python",
   "name": "python",
   "nbconvert_exporter": "python",
   "pygments_lexer": "ipython3",
   "version": "3.7.4"
  }
 },
 "nbformat": 4,
 "nbformat_minor": 4
}
