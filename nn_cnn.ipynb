{
 "cells": [
  {
   "cell_type": "code",
   "execution_count": 1,
   "metadata": {},
   "outputs": [
    {
     "name": "stderr",
     "output_type": "stream",
     "text": [
      "Using TensorFlow backend.\n"
     ]
    }
   ],
   "source": [
    "from keras.losses import categorical_crossentropy, sparse_categorical_crossentropy\n",
    "from keras.models import Sequential\n",
    "from keras.layers import Dense\n",
    "from keras.layers import Conv2D\n",
    "from keras.layers import MaxPooling2D, Flatten, Dropout\n",
    "from keras.utils import to_categorical\n",
    "import pandas as pd\n",
    "import talib\n",
    "from datetime import datetime as dt\n",
    "import numpy as np\n",
    "import util"
   ]
  },
  {
   "cell_type": "code",
   "execution_count": 2,
   "metadata": {},
   "outputs": [
    {
     "name": "stdout",
     "output_type": "stream",
     "text": [
      "type = classification\n"
     ]
    }
   ],
   "source": [
    "data_df, target_class = util.get_data(type = 'class')"
   ]
  },
  {
   "cell_type": "code",
   "execution_count": 3,
   "metadata": {},
   "outputs": [
    {
     "data": {
      "text/html": [
       "<div>\n",
       "<style scoped>\n",
       "    .dataframe tbody tr th:only-of-type {\n",
       "        vertical-align: middle;\n",
       "    }\n",
       "\n",
       "    .dataframe tbody tr th {\n",
       "        vertical-align: top;\n",
       "    }\n",
       "\n",
       "    .dataframe thead th {\n",
       "        text-align: right;\n",
       "    }\n",
       "</style>\n",
       "<table border=\"1\" class=\"dataframe\">\n",
       "  <thead>\n",
       "    <tr style=\"text-align: right;\">\n",
       "      <th></th>\n",
       "      <th>open</th>\n",
       "      <th>high</th>\n",
       "      <th>low</th>\n",
       "      <th>close</th>\n",
       "      <th>volume</th>\n",
       "      <th>sma_5</th>\n",
       "      <th>sma_10</th>\n",
       "      <th>ema_20</th>\n",
       "      <th>mtm6_mtm12</th>\n",
       "      <th>fastk</th>\n",
       "      <th>...</th>\n",
       "      <th>roc_10</th>\n",
       "      <th>bband_upper</th>\n",
       "      <th>bband_middle</th>\n",
       "      <th>bband_lower</th>\n",
       "      <th>macd</th>\n",
       "      <th>macdsignal</th>\n",
       "      <th>macdhist</th>\n",
       "      <th>adosc</th>\n",
       "      <th>cci_14</th>\n",
       "      <th>atr_14</th>\n",
       "    </tr>\n",
       "    <tr>\n",
       "      <th>date</th>\n",
       "      <th></th>\n",
       "      <th></th>\n",
       "      <th></th>\n",
       "      <th></th>\n",
       "      <th></th>\n",
       "      <th></th>\n",
       "      <th></th>\n",
       "      <th></th>\n",
       "      <th></th>\n",
       "      <th></th>\n",
       "      <th></th>\n",
       "      <th></th>\n",
       "      <th></th>\n",
       "      <th></th>\n",
       "      <th></th>\n",
       "      <th></th>\n",
       "      <th></th>\n",
       "      <th></th>\n",
       "      <th></th>\n",
       "      <th></th>\n",
       "      <th></th>\n",
       "    </tr>\n",
       "  </thead>\n",
       "  <tbody>\n",
       "    <tr>\n",
       "      <th>2009-11-13</th>\n",
       "      <td>1107.00</td>\n",
       "      <td>1120.95</td>\n",
       "      <td>1096.00</td>\n",
       "      <td>1108.65</td>\n",
       "      <td>162748.0</td>\n",
       "      <td>1107.48</td>\n",
       "      <td>1078.780</td>\n",
       "      <td>1037.040428</td>\n",
       "      <td>0.758821</td>\n",
       "      <td>0.000000</td>\n",
       "      <td>...</td>\n",
       "      <td>9.097619</td>\n",
       "      <td>1132.514824</td>\n",
       "      <td>1107.48</td>\n",
       "      <td>1082.445176</td>\n",
       "      <td>51.542123</td>\n",
       "      <td>44.986421</td>\n",
       "      <td>6.555701</td>\n",
       "      <td>82120.478264</td>\n",
       "      <td>85.592224</td>\n",
       "      <td>41.284589</td>\n",
       "    </tr>\n",
       "    <tr>\n",
       "      <th>2009-11-16</th>\n",
       "      <td>1110.00</td>\n",
       "      <td>1124.60</td>\n",
       "      <td>1080.50</td>\n",
       "      <td>1102.35</td>\n",
       "      <td>711035.0</td>\n",
       "      <td>1107.98</td>\n",
       "      <td>1087.875</td>\n",
       "      <td>1043.260388</td>\n",
       "      <td>0.770677</td>\n",
       "      <td>0.000000</td>\n",
       "      <td>...</td>\n",
       "      <td>8.992486</td>\n",
       "      <td>1132.479437</td>\n",
       "      <td>1107.98</td>\n",
       "      <td>1083.480563</td>\n",
       "      <td>50.400971</td>\n",
       "      <td>46.069331</td>\n",
       "      <td>4.331640</td>\n",
       "      <td>66997.143935</td>\n",
       "      <td>68.922981</td>\n",
       "      <td>41.485690</td>\n",
       "    </tr>\n",
       "    <tr>\n",
       "      <th>2009-11-17</th>\n",
       "      <td>1109.90</td>\n",
       "      <td>1119.80</td>\n",
       "      <td>1095.05</td>\n",
       "      <td>1110.75</td>\n",
       "      <td>511877.0</td>\n",
       "      <td>1111.88</td>\n",
       "      <td>1095.500</td>\n",
       "      <td>1049.687970</td>\n",
       "      <td>0.731145</td>\n",
       "      <td>14.514965</td>\n",
       "      <td>...</td>\n",
       "      <td>7.370710</td>\n",
       "      <td>1129.813388</td>\n",
       "      <td>1111.88</td>\n",
       "      <td>1093.946612</td>\n",
       "      <td>49.602622</td>\n",
       "      <td>46.775989</td>\n",
       "      <td>2.826632</td>\n",
       "      <td>98480.693987</td>\n",
       "      <td>71.206147</td>\n",
       "      <td>40.290283</td>\n",
       "    </tr>\n",
       "    <tr>\n",
       "      <th>2009-11-18</th>\n",
       "      <td>1110.75</td>\n",
       "      <td>1124.90</td>\n",
       "      <td>1103.05</td>\n",
       "      <td>1107.65</td>\n",
       "      <td>319970.0</td>\n",
       "      <td>1107.63</td>\n",
       "      <td>1099.815</td>\n",
       "      <td>1055.208163</td>\n",
       "      <td>0.731853</td>\n",
       "      <td>5.884116</td>\n",
       "      <td>...</td>\n",
       "      <td>4.053546</td>\n",
       "      <td>1113.280345</td>\n",
       "      <td>1107.63</td>\n",
       "      <td>1101.979655</td>\n",
       "      <td>48.164569</td>\n",
       "      <td>47.053705</td>\n",
       "      <td>1.110863</td>\n",
       "      <td>43465.695631</td>\n",
       "      <td>69.428519</td>\n",
       "      <td>38.973120</td>\n",
       "    </tr>\n",
       "    <tr>\n",
       "      <th>2009-11-19</th>\n",
       "      <td>1106.00</td>\n",
       "      <td>1107.65</td>\n",
       "      <td>1082.30</td>\n",
       "      <td>1098.90</td>\n",
       "      <td>365055.0</td>\n",
       "      <td>1105.66</td>\n",
       "      <td>1102.630</td>\n",
       "      <td>1059.369290</td>\n",
       "      <td>0.671755</td>\n",
       "      <td>0.000000</td>\n",
       "      <td>...</td>\n",
       "      <td>2.628998</td>\n",
       "      <td>1114.398970</td>\n",
       "      <td>1105.66</td>\n",
       "      <td>1096.921030</td>\n",
       "      <td>45.790999</td>\n",
       "      <td>46.801164</td>\n",
       "      <td>-1.010165</td>\n",
       "      <td>52976.883737</td>\n",
       "      <td>26.546429</td>\n",
       "      <td>38.000040</td>\n",
       "    </tr>\n",
       "    <tr>\n",
       "      <th>...</th>\n",
       "      <td>...</td>\n",
       "      <td>...</td>\n",
       "      <td>...</td>\n",
       "      <td>...</td>\n",
       "      <td>...</td>\n",
       "      <td>...</td>\n",
       "      <td>...</td>\n",
       "      <td>...</td>\n",
       "      <td>...</td>\n",
       "      <td>...</td>\n",
       "      <td>...</td>\n",
       "      <td>...</td>\n",
       "      <td>...</td>\n",
       "      <td>...</td>\n",
       "      <td>...</td>\n",
       "      <td>...</td>\n",
       "      <td>...</td>\n",
       "      <td>...</td>\n",
       "      <td>...</td>\n",
       "      <td>...</td>\n",
       "      <td>...</td>\n",
       "    </tr>\n",
       "    <tr>\n",
       "      <th>2019-10-04</th>\n",
       "      <td>2687.00</td>\n",
       "      <td>2699.00</td>\n",
       "      <td>2611.35</td>\n",
       "      <td>2617.70</td>\n",
       "      <td>444204.0</td>\n",
       "      <td>2683.45</td>\n",
       "      <td>2735.575</td>\n",
       "      <td>2700.775656</td>\n",
       "      <td>-1.560784</td>\n",
       "      <td>0.000000</td>\n",
       "      <td>...</td>\n",
       "      <td>-4.203034</td>\n",
       "      <td>2758.245855</td>\n",
       "      <td>2683.45</td>\n",
       "      <td>2608.654145</td>\n",
       "      <td>15.981508</td>\n",
       "      <td>35.519701</td>\n",
       "      <td>-19.538192</td>\n",
       "      <td>-26556.334109</td>\n",
       "      <td>-175.952379</td>\n",
       "      <td>69.393663</td>\n",
       "    </tr>\n",
       "    <tr>\n",
       "      <th>2019-10-07</th>\n",
       "      <td>2630.00</td>\n",
       "      <td>2645.00</td>\n",
       "      <td>2576.25</td>\n",
       "      <td>2616.45</td>\n",
       "      <td>519253.0</td>\n",
       "      <td>2660.58</td>\n",
       "      <td>2713.440</td>\n",
       "      <td>2692.744641</td>\n",
       "      <td>-34.484211</td>\n",
       "      <td>0.000000</td>\n",
       "      <td>...</td>\n",
       "      <td>-7.800056</td>\n",
       "      <td>2733.380099</td>\n",
       "      <td>2660.58</td>\n",
       "      <td>2587.779901</td>\n",
       "      <td>7.577029</td>\n",
       "      <td>29.931166</td>\n",
       "      <td>-22.354137</td>\n",
       "      <td>-38536.305805</td>\n",
       "      <td>-168.733980</td>\n",
       "      <td>69.347687</td>\n",
       "    </tr>\n",
       "    <tr>\n",
       "      <th>2019-10-09</th>\n",
       "      <td>2624.75</td>\n",
       "      <td>2676.00</td>\n",
       "      <td>2600.30</td>\n",
       "      <td>2663.40</td>\n",
       "      <td>466444.0</td>\n",
       "      <td>2652.81</td>\n",
       "      <td>2703.055</td>\n",
       "      <td>2689.949913</td>\n",
       "      <td>-2.100719</td>\n",
       "      <td>80.847685</td>\n",
       "      <td>...</td>\n",
       "      <td>-3.752823</td>\n",
       "      <td>2713.436839</td>\n",
       "      <td>2652.81</td>\n",
       "      <td>2592.183161</td>\n",
       "      <td>4.651275</td>\n",
       "      <td>24.875188</td>\n",
       "      <td>-20.223913</td>\n",
       "      <td>59074.115705</td>\n",
       "      <td>-96.414502</td>\n",
       "      <td>69.801423</td>\n",
       "    </tr>\n",
       "    <tr>\n",
       "      <th>2019-10-10</th>\n",
       "      <td>2626.15</td>\n",
       "      <td>2666.90</td>\n",
       "      <td>2612.05</td>\n",
       "      <td>2633.50</td>\n",
       "      <td>288141.0</td>\n",
       "      <td>2641.64</td>\n",
       "      <td>2687.880</td>\n",
       "      <td>2684.573731</td>\n",
       "      <td>-1.786486</td>\n",
       "      <td>48.776136</td>\n",
       "      <td>...</td>\n",
       "      <td>-5.448344</td>\n",
       "      <td>2690.698145</td>\n",
       "      <td>2641.64</td>\n",
       "      <td>2592.581855</td>\n",
       "      <td>-0.079174</td>\n",
       "      <td>19.884316</td>\n",
       "      <td>-19.963490</td>\n",
       "      <td>73660.971953</td>\n",
       "      <td>-90.810327</td>\n",
       "      <td>68.733465</td>\n",
       "    </tr>\n",
       "    <tr>\n",
       "      <th>2019-10-11</th>\n",
       "      <td>2645.00</td>\n",
       "      <td>2659.00</td>\n",
       "      <td>2607.00</td>\n",
       "      <td>2651.40</td>\n",
       "      <td>546907.0</td>\n",
       "      <td>2636.49</td>\n",
       "      <td>2675.685</td>\n",
       "      <td>2681.414328</td>\n",
       "      <td>-0.942443</td>\n",
       "      <td>86.140306</td>\n",
       "      <td>...</td>\n",
       "      <td>-4.397209</td>\n",
       "      <td>2673.477155</td>\n",
       "      <td>2636.49</td>\n",
       "      <td>2599.502845</td>\n",
       "      <td>-2.356544</td>\n",
       "      <td>15.436144</td>\n",
       "      <td>-17.792688</td>\n",
       "      <td>196081.558353</td>\n",
       "      <td>-75.589192</td>\n",
       "      <td>67.538217</td>\n",
       "    </tr>\n",
       "  </tbody>\n",
       "</table>\n",
       "<p>2457 rows × 21 columns</p>\n",
       "</div>"
      ],
      "text/plain": [
       "               open     high      low    close    volume    sma_5    sma_10  \\\n",
       "date                                                                          \n",
       "2009-11-13  1107.00  1120.95  1096.00  1108.65  162748.0  1107.48  1078.780   \n",
       "2009-11-16  1110.00  1124.60  1080.50  1102.35  711035.0  1107.98  1087.875   \n",
       "2009-11-17  1109.90  1119.80  1095.05  1110.75  511877.0  1111.88  1095.500   \n",
       "2009-11-18  1110.75  1124.90  1103.05  1107.65  319970.0  1107.63  1099.815   \n",
       "2009-11-19  1106.00  1107.65  1082.30  1098.90  365055.0  1105.66  1102.630   \n",
       "...             ...      ...      ...      ...       ...      ...       ...   \n",
       "2019-10-04  2687.00  2699.00  2611.35  2617.70  444204.0  2683.45  2735.575   \n",
       "2019-10-07  2630.00  2645.00  2576.25  2616.45  519253.0  2660.58  2713.440   \n",
       "2019-10-09  2624.75  2676.00  2600.30  2663.40  466444.0  2652.81  2703.055   \n",
       "2019-10-10  2626.15  2666.90  2612.05  2633.50  288141.0  2641.64  2687.880   \n",
       "2019-10-11  2645.00  2659.00  2607.00  2651.40  546907.0  2636.49  2675.685   \n",
       "\n",
       "                 ema_20  mtm6_mtm12      fastk  ...    roc_10  bband_upper  \\\n",
       "date                                            ...                          \n",
       "2009-11-13  1037.040428    0.758821   0.000000  ...  9.097619  1132.514824   \n",
       "2009-11-16  1043.260388    0.770677   0.000000  ...  8.992486  1132.479437   \n",
       "2009-11-17  1049.687970    0.731145  14.514965  ...  7.370710  1129.813388   \n",
       "2009-11-18  1055.208163    0.731853   5.884116  ...  4.053546  1113.280345   \n",
       "2009-11-19  1059.369290    0.671755   0.000000  ...  2.628998  1114.398970   \n",
       "...                 ...         ...        ...  ...       ...          ...   \n",
       "2019-10-04  2700.775656   -1.560784   0.000000  ... -4.203034  2758.245855   \n",
       "2019-10-07  2692.744641  -34.484211   0.000000  ... -7.800056  2733.380099   \n",
       "2019-10-09  2689.949913   -2.100719  80.847685  ... -3.752823  2713.436839   \n",
       "2019-10-10  2684.573731   -1.786486  48.776136  ... -5.448344  2690.698145   \n",
       "2019-10-11  2681.414328   -0.942443  86.140306  ... -4.397209  2673.477155   \n",
       "\n",
       "            bband_middle  bband_lower       macd  macdsignal   macdhist  \\\n",
       "date                                                                      \n",
       "2009-11-13       1107.48  1082.445176  51.542123   44.986421   6.555701   \n",
       "2009-11-16       1107.98  1083.480563  50.400971   46.069331   4.331640   \n",
       "2009-11-17       1111.88  1093.946612  49.602622   46.775989   2.826632   \n",
       "2009-11-18       1107.63  1101.979655  48.164569   47.053705   1.110863   \n",
       "2009-11-19       1105.66  1096.921030  45.790999   46.801164  -1.010165   \n",
       "...                  ...          ...        ...         ...        ...   \n",
       "2019-10-04       2683.45  2608.654145  15.981508   35.519701 -19.538192   \n",
       "2019-10-07       2660.58  2587.779901   7.577029   29.931166 -22.354137   \n",
       "2019-10-09       2652.81  2592.183161   4.651275   24.875188 -20.223913   \n",
       "2019-10-10       2641.64  2592.581855  -0.079174   19.884316 -19.963490   \n",
       "2019-10-11       2636.49  2599.502845  -2.356544   15.436144 -17.792688   \n",
       "\n",
       "                    adosc      cci_14     atr_14  \n",
       "date                                              \n",
       "2009-11-13   82120.478264   85.592224  41.284589  \n",
       "2009-11-16   66997.143935   68.922981  41.485690  \n",
       "2009-11-17   98480.693987   71.206147  40.290283  \n",
       "2009-11-18   43465.695631   69.428519  38.973120  \n",
       "2009-11-19   52976.883737   26.546429  38.000040  \n",
       "...                   ...         ...        ...  \n",
       "2019-10-04  -26556.334109 -175.952379  69.393663  \n",
       "2019-10-07  -38536.305805 -168.733980  69.347687  \n",
       "2019-10-09   59074.115705  -96.414502  69.801423  \n",
       "2019-10-10   73660.971953  -90.810327  68.733465  \n",
       "2019-10-11  196081.558353  -75.589192  67.538217  \n",
       "\n",
       "[2457 rows x 21 columns]"
      ]
     },
     "execution_count": 3,
     "metadata": {},
     "output_type": "execute_result"
    }
   ],
   "source": [
    "data_df"
   ]
  },
  {
   "cell_type": "code",
   "execution_count": 4,
   "metadata": {},
   "outputs": [],
   "source": [
    "dataset = util.normalise_data(data_df)"
   ]
  },
  {
   "cell_type": "code",
   "execution_count": 5,
   "metadata": {},
   "outputs": [
    {
     "ename": "NameError",
     "evalue": "name 'target_class' is not defined",
     "output_type": "error",
     "traceback": [
      "\u001b[0;31m---------------------------------------------------------------------------\u001b[0m",
      "\u001b[0;31mNameError\u001b[0m                                 Traceback (most recent call last)",
      "\u001b[0;32m<ipython-input-5-ff69cff36d54>\u001b[0m in \u001b[0;36m<module>\u001b[0;34m\u001b[0m\n\u001b[1;32m      3\u001b[0m \u001b[0mfuture_target\u001b[0m \u001b[0;34m=\u001b[0m \u001b[0;36m1\u001b[0m\u001b[0;34m\u001b[0m\u001b[0;34m\u001b[0m\u001b[0m\n\u001b[1;32m      4\u001b[0m \u001b[0mSTEP\u001b[0m \u001b[0;34m=\u001b[0m \u001b[0;36m1\u001b[0m\u001b[0;34m\u001b[0m\u001b[0;34m\u001b[0m\u001b[0m\n\u001b[0;32m----> 5\u001b[0;31m \u001b[0mX_train\u001b[0m\u001b[0;34m,\u001b[0m \u001b[0my_train\u001b[0m \u001b[0;34m=\u001b[0m \u001b[0mutil\u001b[0m\u001b[0;34m.\u001b[0m\u001b[0mmultivariate_data\u001b[0m\u001b[0;34m(\u001b[0m\u001b[0mdataset\u001b[0m\u001b[0;34m,\u001b[0m \u001b[0mtarget_class\u001b[0m\u001b[0;34m,\u001b[0m \u001b[0;36m0\u001b[0m\u001b[0;34m,\u001b[0m \u001b[0mTRAIN_SPLIT\u001b[0m\u001b[0;34m,\u001b[0m \u001b[0mpast_history\u001b[0m\u001b[0;34m,\u001b[0m \u001b[0mfuture_target\u001b[0m\u001b[0;34m,\u001b[0m \u001b[0mSTEP\u001b[0m\u001b[0;34m,\u001b[0m \u001b[0msingle_step\u001b[0m\u001b[0;34m=\u001b[0m\u001b[0;32mTrue\u001b[0m\u001b[0;34m)\u001b[0m\u001b[0;34m\u001b[0m\u001b[0;34m\u001b[0m\u001b[0m\n\u001b[0m\u001b[1;32m      6\u001b[0m \u001b[0mX_test\u001b[0m\u001b[0;34m,\u001b[0m \u001b[0my_test\u001b[0m \u001b[0;34m=\u001b[0m \u001b[0mutil\u001b[0m\u001b[0;34m.\u001b[0m\u001b[0mmultivariate_data\u001b[0m\u001b[0;34m(\u001b[0m\u001b[0mdataset\u001b[0m\u001b[0;34m,\u001b[0m \u001b[0mtarget_class\u001b[0m\u001b[0;34m,\u001b[0m \u001b[0mTRAIN_SPLIT\u001b[0m\u001b[0;34m,\u001b[0m \u001b[0;32mNone\u001b[0m\u001b[0;34m,\u001b[0m \u001b[0mpast_history\u001b[0m\u001b[0;34m,\u001b[0m \u001b[0mfuture_target\u001b[0m\u001b[0;34m,\u001b[0m \u001b[0mSTEP\u001b[0m\u001b[0;34m,\u001b[0m \u001b[0msingle_step\u001b[0m\u001b[0;34m=\u001b[0m\u001b[0;32mTrue\u001b[0m\u001b[0;34m)\u001b[0m\u001b[0;34m\u001b[0m\u001b[0;34m\u001b[0m\u001b[0m\n\u001b[1;32m      7\u001b[0m \u001b[0mX_train\u001b[0m \u001b[0;34m=\u001b[0m \u001b[0mX_train\u001b[0m\u001b[0;34m.\u001b[0m\u001b[0mreshape\u001b[0m\u001b[0;34m(\u001b[0m\u001b[0mX_train\u001b[0m\u001b[0;34m.\u001b[0m\u001b[0mshape\u001b[0m\u001b[0;34m[\u001b[0m\u001b[0;36m0\u001b[0m\u001b[0;34m]\u001b[0m\u001b[0;34m,\u001b[0m\u001b[0;36m21\u001b[0m\u001b[0;34m,\u001b[0m\u001b[0;36m21\u001b[0m\u001b[0;34m,\u001b[0m\u001b[0;36m1\u001b[0m\u001b[0;34m)\u001b[0m\u001b[0;34m\u001b[0m\u001b[0;34m\u001b[0m\u001b[0m\n",
      "\u001b[0;31mNameError\u001b[0m: name 'target_class' is not defined"
     ]
    }
   ],
   "source": [
    "TRAIN_SPLIT = round(0.8 * len(data_df))\n",
    "past_history = 21\n",
    "future_target = 1\n",
    "STEP = 1\n",
    "X_train, y_train = util.multivariate_data(dataset, target_class, 0, TRAIN_SPLIT, past_history, future_target, STEP, single_step=True)\n",
    "X_test, y_test = util.multivariate_data(dataset, target_class, TRAIN_SPLIT, None, past_history, future_target, STEP, single_step=True)\n",
    "X_train = X_train.reshape(X_train.shape[0],21,21,1)\n",
    "X_test = X_test.reshape(X_test.shape[0],21,21,1)"
   ]
  },
  {
   "cell_type": "code",
   "execution_count": null,
   "metadata": {},
   "outputs": [],
   "source": [
    "data_df"
   ]
  },
  {
   "cell_type": "code",
   "execution_count": null,
   "metadata": {},
   "outputs": [],
   "source": [
    "model = Sequential()"
   ]
  },
  {
   "cell_type": "code",
   "execution_count": null,
   "metadata": {},
   "outputs": [],
   "source": [
    "model.add(Conv2D(32, (3, 3), padding=\"same\", activation=\"relu\", input_shape=(21, 21,1)))\n",
    "model.add(Conv2D(64, (3, 3), padding=\"same\", activation=\"relu\"))\n",
    "model.add(MaxPooling2D(pool_size =(2, 2)))\n",
    "model.add(Flatten())\n",
    "model.add(Dropout(0.25))\n",
    "model.add(Dense(units = 128, activation = \"relu\"))\n",
    "model.add(Dropout(0.5))\n",
    "model.add(Dense(units = 64, activation = \"relu\"))\n",
    "model.add(Dense(units=1, activation='sigmoid'))"
   ]
  },
  {
   "cell_type": "code",
   "execution_count": null,
   "metadata": {},
   "outputs": [],
   "source": [
    "model.compile(loss = \"binary_crossentropy\", optimizer=\"adam\", metrics = [\"accuracy\"])"
   ]
  },
  {
   "cell_type": "code",
   "execution_count": null,
   "metadata": {},
   "outputs": [],
   "source": [
    "BATCH_SIZE = 32\n",
    "EPOCHS = 100\n",
    "\n",
    "model.fit(X_train, y_train,\n",
    "          batch_size=BATCH_SIZE,\n",
    "          epochs=EPOCHS,\n",
    "          verbose=1,\n",
    "          validation_data=(X_test, y_test))"
   ]
  },
  {
   "cell_type": "code",
   "execution_count": null,
   "metadata": {},
   "outputs": [],
   "source": [
    "import matplotlib.pyplot as plt\n",
    "plt.figure(figsize=(10,10))\n",
    "plt.plot(model.predict(X_test), color = 'r')\n",
    "plt.grid()\n",
    "plt.plot(y_test)"
   ]
  },
  {
   "cell_type": "code",
   "execution_count": null,
   "metadata": {},
   "outputs": [],
   "source": [
    "plt.plot(y_test)"
   ]
  },
  {
   "cell_type": "code",
   "execution_count": null,
   "metadata": {},
   "outputs": [],
   "source": [
    "X_test = X_test.reshape(X_test.shape[0],21,21,1).shape"
   ]
  },
  {
   "cell_type": "code",
   "execution_count": null,
   "metadata": {},
   "outputs": [],
   "source": [
    "data_df[\"temp\"] = np.append([np.nan], data_df['close'][:-1],)\n",
    "data_df = data_df.dropna()"
   ]
  },
  {
   "cell_type": "code",
   "execution_count": null,
   "metadata": {},
   "outputs": [],
   "source": []
  },
  {
   "cell_type": "code",
   "execution_count": null,
   "metadata": {},
   "outputs": [],
   "source": [
    "data_df['close']"
   ]
  },
  {
   "cell_type": "code",
   "execution_count": null,
   "metadata": {},
   "outputs": [],
   "source": [
    "data_df['temp']"
   ]
  },
  {
   "cell_type": "code",
   "execution_count": null,
   "metadata": {},
   "outputs": [],
   "source": [
    "data_df[\"target\"] = target"
   ]
  },
  {
   "cell_type": "code",
   "execution_count": null,
   "metadata": {},
   "outputs": [],
   "source": [
    "data_df[\"target\"]"
   ]
  },
  {
   "cell_type": "code",
   "execution_count": null,
   "metadata": {},
   "outputs": [],
   "source": [
    "# for x,y in data_df[\"close\"],data_df[\"temp\"]:\n",
    "#     if x < y : \n",
    "#         data_df[\"class\"] = 1\n",
    "#     else :\n",
    "#         data_df['class'] = \n",
    "\n",
    "# if data_df[\"close\"] < data_df[\"temp\"]:\n",
    "#     data[\"class\"] = 1\n",
    "# else : \n",
    "#     data[\"class\"] = 0\n",
    "    \n",
    "data_df['class'] = [1 if x < y else 0 for x,y in data_df['close'], data_df['target']]"
   ]
  },
  {
   "cell_type": "code",
   "execution_count": null,
   "metadata": {},
   "outputs": [],
   "source": []
  },
  {
   "cell_type": "code",
   "execution_count": null,
   "metadata": {},
   "outputs": [],
   "source": [
    "data_df['class']"
   ]
  },
  {
   "cell_type": "code",
   "execution_count": null,
   "metadata": {},
   "outputs": [],
   "source": [
    "data_df['close']"
   ]
  },
  {
   "cell_type": "code",
   "execution_count": null,
   "metadata": {},
   "outputs": [],
   "source": [
    "target"
   ]
  },
  {
   "cell_type": "code",
   "execution_count": null,
   "metadata": {},
   "outputs": [],
   "source": [
    "data_df.head()"
   ]
  },
  {
   "cell_type": "code",
   "execution_count": null,
   "metadata": {},
   "outputs": [],
   "source": [
    "data_df[\"prev\"] = np.append([np.nan], data_df['close'][:-1],)\n",
    "data_df = data_df.dropna()\n",
    "data_df['class'] = np.where((data_df['prev'] < data_df['close']),1,0)\n",
    "\n",
    "data_df.drop('prev',axis = 1, inplace = True)\n",
    "\n"
   ]
  },
  {
   "cell_type": "code",
   "execution_count": null,
   "metadata": {},
   "outputs": [],
   "source": [
    "data_df['class']"
   ]
  },
  {
   "cell_type": "code",
   "execution_count": null,
   "metadata": {},
   "outputs": [],
   "source": [
    "target_class.shape"
   ]
  },
  {
   "cell_type": "code",
   "execution_count": null,
   "metadata": {},
   "outputs": [],
   "source": [
    "data_df.head()"
   ]
  },
  {
   "cell_type": "code",
   "execution_count": null,
   "metadata": {},
   "outputs": [],
   "source": [
    "target_class"
   ]
  },
  {
   "cell_type": "code",
   "execution_count": null,
   "metadata": {},
   "outputs": [],
   "source": []
  }
 ],
 "metadata": {
  "kernelspec": {
   "display_name": "Python 3",
   "language": "python",
   "name": "python3"
  },
  "language_info": {
   "codemirror_mode": {
    "name": "ipython",
    "version": 3
   },
   "file_extension": ".py",
   "mimetype": "text/x-python",
   "name": "python",
   "nbconvert_exporter": "python",
   "pygments_lexer": "ipython3",
   "version": "3.7.4"
  }
 },
 "nbformat": 4,
 "nbformat_minor": 4
}
