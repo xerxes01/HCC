{
 "cells": [
  {
   "cell_type": "code",
   "execution_count": 1,
   "metadata": {},
   "outputs": [
    {
     "name": "stderr",
     "output_type": "stream",
     "text": [
      "Using TensorFlow backend.\n"
     ]
    }
   ],
   "source": [
    "from keras.losses import categorical_crossentropy, sparse_categorical_crossentropy\n",
    "from keras.models import Sequential\n",
    "from keras.layers import Dense\n",
    "from keras.layers import Conv2D\n",
    "from keras.layers import MaxPooling2D, Flatten, Dropout\n",
    "from keras.utils import to_categorical\n",
    "import pandas as pd\n",
    "import talib\n",
    "from datetime import datetime as dt\n",
    "import numpy as np\n",
    "import Util"
   ]
  },
  {
   "cell_type": "code",
   "execution_count": 2,
   "metadata": {},
   "outputs": [
    {
     "name": "stdout",
     "output_type": "stream",
     "text": [
      "type = classification\n"
     ]
    }
   ],
   "source": [
    "data_df, target_class = util.get_data(type = 'class')"
   ]
  },
  {
   "cell_type": "code",
   "execution_count": 4,
   "metadata": {},
   "outputs": [],
   "source": [
    "dataset = util.normalise_data(data_df)"
   ]
  },
  {
   "cell_type": "code",
   "execution_count": 5,
   "metadata": {},
   "outputs": [],
   "source": [
    "TRAIN_SPLIT = round(0.8 * len(dataset))\n",
    "past_history = 21\n",
    "future_target = 1\n",
    "STEP = 1\n",
    "X_train, y_train =past_historyivariate_data(dataset, target_class, 0, TRAIN_SPLIT, past_history, future_target, STEP, single_step=True)\n",
    "X_test, y_test = util.multivariate_data(dataset, target_class, TRAIN_SPLIT, None, past_history, future_target, STEP, single_step=True)\n",
    "X_train = X_train.reshape(X_train.shape[0],21,21,1)\n",
    "X_test = X_test.reshape(X_test.shape[0],21,21,1)\n",
    "#X_train, y_train, X_test, y_test = util.train_test_data_for_cnn(dataset, target_class, 0, TRAIN_SPLIT, past_history, future_target, STEP, single_step=True)"
   ]
  },
  {
   "cell_type": "code",
   "execution_count": 7,
   "metadata": {},
   "outputs": [],
   "source": [
    "model = Sequential()"
   ]
  },
  {
   "cell_type": "code",
   "execution_count": 8,
   "metadata": {},
   "outputs": [],
   "source": [
    "model.add(Conv2D(32, (3, 3), padding=\"same\", activation=\"relu\", input_shape=(21, 21,1)))\n",
    "model.add(Conv2D(64, (3, 3), padding=\"same\", activation=\"relu\"))\n",
    "model.add(MaxPooling2D(pool_size =(2, 2)))\n",
    "model.add(Flatten())\n",
    "model.add(Dropout(0.25))\n",
    "model.add(Dense(units = 128, activation = \"relu\"))\n",
    "model.add(Dropout(0.5))\n",
    "model.add(Dense(units = 64, activation = \"relu\"))\n",
    "model.add(Dense(units=1, activation='sigmoid'))"
   ]
  },
  {
   "cell_type": "code",
   "execution_count": 9,
   "metadata": {},
   "outputs": [],
   "source": [
    "model.compile(loss = \"binary_crossentropy\", optimizer=\"adam\", metrics = [\"accuracy\"])"
   ]
  },
  {
   "cell_type": "code",
   "execution_count": 10,
   "metadata": {},
   "outputs": [
    {
     "name": "stdout",
     "output_type": "stream",
     "text": [
      "Train on 1945 samples, validate on 469 samples\n",
      "Epoch 1/100\n",
      "1945/1945 [==============================] - 4s 2ms/step - loss: 0.7046 - accuracy: 0.5224 - val_loss: 0.6940 - val_accuracy: 0.4861\n",
      "Epoch 2/100\n",
      "1945/1945 [==============================] - 4s 2ms/step - loss: 0.6914 - accuracy: 0.5090 - val_loss: 0.6968 - val_accuracy: 0.4968\n",
      "Epoch 3/100\n",
      "1945/1945 [==============================] - 4s 2ms/step - loss: 0.6890 - accuracy: 0.5270 - val_loss: 0.6962 - val_accuracy: 0.5075\n",
      "Epoch 4/100\n",
      "1945/1945 [==============================] - 4s 2ms/step - loss: 0.6873 - accuracy: 0.5332 - val_loss: 0.6945 - val_accuracy: 0.5096\n",
      "Epoch 5/100\n",
      "1945/1945 [==============================] - 4s 2ms/step - loss: 0.6825 - accuracy: 0.5506 - val_loss: 0.7141 - val_accuracy: 0.5139\n",
      "Epoch 6/100\n",
      "1945/1945 [==============================] - 4s 2ms/step - loss: 0.6765 - accuracy: 0.5830 - val_loss: 0.7609 - val_accuracy: 0.4819\n",
      "Epoch 7/100\n",
      "1945/1945 [==============================] - 4s 2ms/step - loss: 0.6714 - accuracy: 0.5830 - val_loss: 0.7358 - val_accuracy: 0.5053\n",
      "Epoch 8/100\n",
      "1945/1945 [==============================] - 4s 2ms/step - loss: 0.6680 - accuracy: 0.5805 - val_loss: 0.7812 - val_accuracy: 0.5032\n",
      "Epoch 9/100\n",
      "1945/1945 [==============================] - 4s 2ms/step - loss: 0.6567 - accuracy: 0.6082 - val_loss: 0.8422 - val_accuracy: 0.5117\n",
      "Epoch 10/100\n",
      "1945/1945 [==============================] - 4s 2ms/step - loss: 0.6418 - accuracy: 0.6257 - val_loss: 0.8494 - val_accuracy: 0.5075\n",
      "Epoch 11/100\n",
      "1945/1945 [==============================] - 5s 2ms/step - loss: 0.6259 - accuracy: 0.6576 - val_loss: 0.9063 - val_accuracy: 0.5139\n",
      "Epoch 12/100\n",
      "1945/1945 [==============================] - 5s 2ms/step - loss: 0.6199 - accuracy: 0.6555 - val_loss: 1.0041 - val_accuracy: 0.5011\n",
      "Epoch 13/100\n",
      "1945/1945 [==============================] - 4s 2ms/step - loss: 0.5908 - accuracy: 0.6797 - val_loss: 0.9835 - val_accuracy: 0.4947\n",
      "Epoch 14/100\n",
      "1945/1945 [==============================] - 4s 2ms/step - loss: 0.5833 - accuracy: 0.6956 - val_loss: 0.9513 - val_accuracy: 0.5053\n",
      "Epoch 15/100\n",
      "1945/1945 [==============================] - 4s 2ms/step - loss: 0.5566 - accuracy: 0.7044 - val_loss: 0.9999 - val_accuracy: 0.5053\n",
      "Epoch 16/100\n",
      "1945/1945 [==============================] - 4s 2ms/step - loss: 0.5383 - accuracy: 0.7337 - val_loss: 1.1297 - val_accuracy: 0.5053\n",
      "Epoch 17/100\n",
      "1945/1945 [==============================] - 4s 2ms/step - loss: 0.5121 - accuracy: 0.7455 - val_loss: 1.1270 - val_accuracy: 0.5203\n",
      "Epoch 18/100\n",
      "1945/1945 [==============================] - 3s 2ms/step - loss: 0.4737 - accuracy: 0.7656 - val_loss: 1.3549 - val_accuracy: 0.4925\n",
      "Epoch 19/100\n",
      "1945/1945 [==============================] - 3s 2ms/step - loss: 0.4617 - accuracy: 0.7820 - val_loss: 1.3641 - val_accuracy: 0.4819\n",
      "Epoch 20/100\n",
      "1945/1945 [==============================] - 4s 2ms/step - loss: 0.4410 - accuracy: 0.7933 - val_loss: 1.4230 - val_accuracy: 0.4797\n",
      "Epoch 21/100\n",
      "1945/1945 [==============================] - 4s 2ms/step - loss: 0.3978 - accuracy: 0.8216 - val_loss: 1.5765 - val_accuracy: 0.5053\n",
      "Epoch 22/100\n",
      "1945/1945 [==============================] - 4s 2ms/step - loss: 0.3807 - accuracy: 0.8262 - val_loss: 1.7603 - val_accuracy: 0.4989\n",
      "Epoch 23/100\n",
      "1945/1945 [==============================] - 4s 2ms/step - loss: 0.3519 - accuracy: 0.8447 - val_loss: 1.6770 - val_accuracy: 0.4989\n",
      "Epoch 24/100\n",
      "1945/1945 [==============================] - 4s 2ms/step - loss: 0.3128 - accuracy: 0.8602 - val_loss: 1.8109 - val_accuracy: 0.5096\n",
      "Epoch 25/100\n",
      "1945/1945 [==============================] - 5s 3ms/step - loss: 0.3130 - accuracy: 0.8632 - val_loss: 1.7452 - val_accuracy: 0.5032\n",
      "Epoch 26/100\n",
      "1945/1945 [==============================] - 5s 3ms/step - loss: 0.3017 - accuracy: 0.8689 - val_loss: 2.0705 - val_accuracy: 0.4670\n",
      "Epoch 27/100\n",
      "1945/1945 [==============================] - 5s 3ms/step - loss: 0.2705 - accuracy: 0.8807 - val_loss: 2.1853 - val_accuracy: 0.4776\n",
      "Epoch 28/100\n",
      "1945/1945 [==============================] - 4s 2ms/step - loss: 0.2248 - accuracy: 0.9116 - val_loss: 2.4325 - val_accuracy: 0.5096\n",
      "Epoch 29/100\n",
      "1945/1945 [==============================] - 4s 2ms/step - loss: 0.2295 - accuracy: 0.8977 - val_loss: 2.1564 - val_accuracy: 0.5053\n",
      "Epoch 30/100\n",
      "1945/1945 [==============================] - 5s 2ms/step - loss: 0.2120 - accuracy: 0.9121 - val_loss: 2.3249 - val_accuracy: 0.4883\n",
      "Epoch 31/100\n",
      "1945/1945 [==============================] - 4s 2ms/step - loss: 0.1837 - accuracy: 0.9301 - val_loss: 2.3748 - val_accuracy: 0.4968\n",
      "Epoch 32/100\n",
      "1945/1945 [==============================] - 4s 2ms/step - loss: 0.2094 - accuracy: 0.9213 - val_loss: 2.5409 - val_accuracy: 0.5096\n",
      "Epoch 33/100\n",
      "1945/1945 [==============================] - 4s 2ms/step - loss: 0.1869 - accuracy: 0.9296 - val_loss: 2.2025 - val_accuracy: 0.5096\n",
      "Epoch 34/100\n",
      "1945/1945 [==============================] - 4s 2ms/step - loss: 0.1782 - accuracy: 0.9244 - val_loss: 2.4396 - val_accuracy: 0.5032\n",
      "Epoch 35/100\n",
      "1945/1945 [==============================] - 4s 2ms/step - loss: 0.1635 - accuracy: 0.9409 - val_loss: 2.5179 - val_accuracy: 0.4861\n",
      "Epoch 36/100\n",
      "1945/1945 [==============================] - 5s 2ms/step - loss: 0.1591 - accuracy: 0.9424 - val_loss: 2.3819 - val_accuracy: 0.5096\n",
      "Epoch 37/100\n",
      "1945/1945 [==============================] - 4s 2ms/step - loss: 0.1475 - accuracy: 0.9434 - val_loss: 2.3773 - val_accuracy: 0.5011\n",
      "Epoch 38/100\n",
      "1945/1945 [==============================] - 4s 2ms/step - loss: 0.1252 - accuracy: 0.9548 - val_loss: 2.8291 - val_accuracy: 0.4904\n",
      "Epoch 39/100\n",
      "1945/1945 [==============================] - 5s 2ms/step - loss: 0.1273 - accuracy: 0.9553 - val_loss: 2.8433 - val_accuracy: 0.4968\n",
      "Epoch 40/100\n",
      "1945/1945 [==============================] - 4s 2ms/step - loss: 0.1285 - accuracy: 0.9512 - val_loss: 3.1336 - val_accuracy: 0.4947\n",
      "Epoch 41/100\n",
      "1945/1945 [==============================] - 4s 2ms/step - loss: 0.1119 - accuracy: 0.9609 - val_loss: 2.7650 - val_accuracy: 0.4925\n",
      "Epoch 42/100\n",
      "1945/1945 [==============================] - 4s 2ms/step - loss: 0.1143 - accuracy: 0.9527 - val_loss: 2.8875 - val_accuracy: 0.4947\n",
      "Epoch 43/100\n",
      "1945/1945 [==============================] - 4s 2ms/step - loss: 0.0777 - accuracy: 0.9738 - val_loss: 3.0523 - val_accuracy: 0.4819\n",
      "Epoch 44/100\n",
      "1945/1945 [==============================] - 4s 2ms/step - loss: 0.0964 - accuracy: 0.9671 - val_loss: 2.9011 - val_accuracy: 0.4925\n",
      "Epoch 45/100\n",
      "1945/1945 [==============================] - 4s 2ms/step - loss: 0.1042 - accuracy: 0.9635 - val_loss: 2.9984 - val_accuracy: 0.4947\n",
      "Epoch 46/100\n",
      "1945/1945 [==============================] - 4s 2ms/step - loss: 0.0990 - accuracy: 0.9686 - val_loss: 3.0710 - val_accuracy: 0.4819\n",
      "Epoch 47/100\n",
      "1945/1945 [==============================] - 5s 2ms/step - loss: 0.0957 - accuracy: 0.9650 - val_loss: 3.1706 - val_accuracy: 0.5117\n",
      "Epoch 48/100\n",
      "1945/1945 [==============================] - 5s 2ms/step - loss: 0.0901 - accuracy: 0.9661 - val_loss: 3.2594 - val_accuracy: 0.5011\n",
      "Epoch 49/100\n",
      "1945/1945 [==============================] - 5s 2ms/step - loss: 0.0856 - accuracy: 0.9728 - val_loss: 3.2820 - val_accuracy: 0.5181\n",
      "Epoch 50/100\n",
      "1945/1945 [==============================] - 5s 2ms/step - loss: 0.0857 - accuracy: 0.9738 - val_loss: 3.1453 - val_accuracy: 0.5075\n",
      "Epoch 51/100\n",
      "1945/1945 [==============================] - 5s 2ms/step - loss: 0.0804 - accuracy: 0.9728 - val_loss: 3.4056 - val_accuracy: 0.4968\n",
      "Epoch 52/100\n",
      "1945/1945 [==============================] - 5s 2ms/step - loss: 0.0889 - accuracy: 0.9697 - val_loss: 2.9437 - val_accuracy: 0.5096\n",
      "Epoch 53/100\n",
      "1945/1945 [==============================] - 5s 2ms/step - loss: 0.0756 - accuracy: 0.9722 - val_loss: 3.2164 - val_accuracy: 0.4925\n",
      "Epoch 54/100\n",
      "1945/1945 [==============================] - 4s 2ms/step - loss: 0.0668 - accuracy: 0.9758 - val_loss: 3.3981 - val_accuracy: 0.4861\n",
      "Epoch 55/100\n",
      "1945/1945 [==============================] - 4s 2ms/step - loss: 0.0844 - accuracy: 0.9676 - val_loss: 3.3928 - val_accuracy: 0.5075\n",
      "Epoch 56/100\n",
      "1945/1945 [==============================] - 4s 2ms/step - loss: 0.0840 - accuracy: 0.9712 - val_loss: 3.3227 - val_accuracy: 0.5053\n",
      "Epoch 57/100\n",
      "1945/1945 [==============================] - 4s 2ms/step - loss: 0.0947 - accuracy: 0.9625 - val_loss: 3.3822 - val_accuracy: 0.5053\n",
      "Epoch 58/100\n",
      "1945/1945 [==============================] - 5s 2ms/step - loss: 0.1012 - accuracy: 0.9635 - val_loss: 3.0394 - val_accuracy: 0.5075\n",
      "Epoch 59/100\n",
      "1945/1945 [==============================] - 5s 2ms/step - loss: 0.0965 - accuracy: 0.9650 - val_loss: 2.8720 - val_accuracy: 0.5032\n",
      "Epoch 60/100\n",
      "1945/1945 [==============================] - 4s 2ms/step - loss: 0.0850 - accuracy: 0.9697 - val_loss: 3.0141 - val_accuracy: 0.5139\n",
      "Epoch 61/100\n",
      "1945/1945 [==============================] - 5s 2ms/step - loss: 0.0751 - accuracy: 0.9712 - val_loss: 3.4247 - val_accuracy: 0.4840\n",
      "Epoch 62/100\n",
      "1945/1945 [==============================] - 4s 2ms/step - loss: 0.0699 - accuracy: 0.9748 - val_loss: 3.1155 - val_accuracy: 0.4670\n",
      "Epoch 63/100\n",
      "1945/1945 [==============================] - 4s 2ms/step - loss: 0.0655 - accuracy: 0.9738 - val_loss: 3.7998 - val_accuracy: 0.4925\n",
      "Epoch 64/100\n",
      "1945/1945 [==============================] - 4s 2ms/step - loss: 0.0907 - accuracy: 0.9707 - val_loss: 3.6354 - val_accuracy: 0.5053\n",
      "Epoch 65/100\n",
      "1945/1945 [==============================] - 4s 2ms/step - loss: 0.0600 - accuracy: 0.9748 - val_loss: 3.6989 - val_accuracy: 0.5053\n",
      "Epoch 66/100\n",
      "1945/1945 [==============================] - 5s 2ms/step - loss: 0.0473 - accuracy: 0.9815 - val_loss: 3.7437 - val_accuracy: 0.5011\n",
      "Epoch 67/100\n",
      "1945/1945 [==============================] - 4s 2ms/step - loss: 0.0650 - accuracy: 0.9799 - val_loss: 3.6628 - val_accuracy: 0.4947\n",
      "Epoch 68/100\n",
      "1945/1945 [==============================] - 4s 2ms/step - loss: 0.0452 - accuracy: 0.9835 - val_loss: 3.9291 - val_accuracy: 0.4819\n",
      "Epoch 69/100\n",
      "1945/1945 [==============================] - 5s 2ms/step - loss: 0.0725 - accuracy: 0.9784 - val_loss: 3.6738 - val_accuracy: 0.5245\n",
      "Epoch 70/100\n",
      "1945/1945 [==============================] - 4s 2ms/step - loss: 0.0592 - accuracy: 0.9774 - val_loss: 3.6043 - val_accuracy: 0.5011\n",
      "Epoch 71/100\n",
      "1945/1945 [==============================] - 4s 2ms/step - loss: 0.0625 - accuracy: 0.9805 - val_loss: 3.2624 - val_accuracy: 0.5203\n",
      "Epoch 72/100\n",
      "1945/1945 [==============================] - 4s 2ms/step - loss: 0.0446 - accuracy: 0.9835 - val_loss: 3.4912 - val_accuracy: 0.5203\n",
      "Epoch 73/100\n",
      "1945/1945 [==============================] - 4s 2ms/step - loss: 0.0371 - accuracy: 0.9846 - val_loss: 3.7643 - val_accuracy: 0.5181\n",
      "Epoch 74/100\n",
      "1945/1945 [==============================] - 4s 2ms/step - loss: 0.0508 - accuracy: 0.9825 - val_loss: 3.7268 - val_accuracy: 0.4947\n",
      "Epoch 75/100\n",
      "1945/1945 [==============================] - 4s 2ms/step - loss: 0.0830 - accuracy: 0.9748 - val_loss: 3.4864 - val_accuracy: 0.5032\n",
      "Epoch 76/100\n",
      "1945/1945 [==============================] - 4s 2ms/step - loss: 0.0572 - accuracy: 0.9805 - val_loss: 3.9969 - val_accuracy: 0.5011\n",
      "Epoch 77/100\n",
      "1945/1945 [==============================] - 4s 2ms/step - loss: 0.0662 - accuracy: 0.9769 - val_loss: 3.8278 - val_accuracy: 0.5011\n",
      "Epoch 78/100\n",
      "1945/1945 [==============================] - 4s 2ms/step - loss: 0.0471 - accuracy: 0.9825 - val_loss: 3.8309 - val_accuracy: 0.4925\n",
      "Epoch 79/100\n",
      "1945/1945 [==============================] - 4s 2ms/step - loss: 0.0462 - accuracy: 0.9815 - val_loss: 4.0119 - val_accuracy: 0.4947\n",
      "Epoch 80/100\n",
      "1945/1945 [==============================] - 4s 2ms/step - loss: 0.0580 - accuracy: 0.9820 - val_loss: 4.2434 - val_accuracy: 0.4947\n",
      "Epoch 81/100\n",
      "1945/1945 [==============================] - 4s 2ms/step - loss: 0.0465 - accuracy: 0.9846 - val_loss: 3.9583 - val_accuracy: 0.5053\n",
      "Epoch 82/100\n",
      "1945/1945 [==============================] - 4s 2ms/step - loss: 0.0496 - accuracy: 0.9794 - val_loss: 4.0400 - val_accuracy: 0.4989\n",
      "Epoch 83/100\n",
      "1945/1945 [==============================] - 4s 2ms/step - loss: 0.0682 - accuracy: 0.9774 - val_loss: 3.7506 - val_accuracy: 0.5032\n",
      "Epoch 84/100\n",
      "1945/1945 [==============================] - 4s 2ms/step - loss: 0.0735 - accuracy: 0.9712 - val_loss: 3.5702 - val_accuracy: 0.4925\n",
      "Epoch 85/100\n",
      "1945/1945 [==============================] - 4s 2ms/step - loss: 0.0583 - accuracy: 0.9789 - val_loss: 3.2802 - val_accuracy: 0.5203\n",
      "Epoch 86/100\n",
      "1945/1945 [==============================] - 4s 2ms/step - loss: 0.0519 - accuracy: 0.9825 - val_loss: 3.3900 - val_accuracy: 0.5117\n",
      "Epoch 87/100\n",
      "1945/1945 [==============================] - 4s 2ms/step - loss: 0.0426 - accuracy: 0.9820 - val_loss: 3.7749 - val_accuracy: 0.5032\n",
      "Epoch 88/100\n",
      "1945/1945 [==============================] - 5s 2ms/step - loss: 0.0405 - accuracy: 0.9835 - val_loss: 3.7152 - val_accuracy: 0.5032\n",
      "Epoch 89/100\n",
      "1945/1945 [==============================] - 5s 2ms/step - loss: 0.0548 - accuracy: 0.9830 - val_loss: 3.4775 - val_accuracy: 0.5053\n",
      "Epoch 90/100\n",
      "1945/1945 [==============================] - 4s 2ms/step - loss: 0.0408 - accuracy: 0.9820 - val_loss: 3.6404 - val_accuracy: 0.4925\n",
      "Epoch 91/100\n",
      "1945/1945 [==============================] - 4s 2ms/step - loss: 0.0437 - accuracy: 0.9861 - val_loss: 3.6224 - val_accuracy: 0.4947\n",
      "Epoch 92/100\n",
      "1945/1945 [==============================] - 4s 2ms/step - loss: 0.0570 - accuracy: 0.9825 - val_loss: 3.7393 - val_accuracy: 0.5011\n",
      "Epoch 93/100\n",
      "1945/1945 [==============================] - 4s 2ms/step - loss: 0.0652 - accuracy: 0.9784 - val_loss: 4.0417 - val_accuracy: 0.5096\n",
      "Epoch 94/100\n",
      "1945/1945 [==============================] - 4s 2ms/step - loss: 0.0501 - accuracy: 0.9810 - val_loss: 3.5161 - val_accuracy: 0.4883\n",
      "Epoch 95/100\n",
      "1945/1945 [==============================] - 4s 2ms/step - loss: 0.0601 - accuracy: 0.9825 - val_loss: 3.1478 - val_accuracy: 0.4691\n",
      "Epoch 96/100\n",
      "1945/1945 [==============================] - 4s 2ms/step - loss: 0.0457 - accuracy: 0.9846 - val_loss: 3.3524 - val_accuracy: 0.4904\n",
      "Epoch 97/100\n",
      "1945/1945 [==============================] - 4s 2ms/step - loss: 0.0364 - accuracy: 0.9846 - val_loss: 3.5992 - val_accuracy: 0.4904\n",
      "Epoch 98/100\n",
      "1945/1945 [==============================] - 904s 465ms/step - loss: 0.0360 - accuracy: 0.9861 - val_loss: 4.4667 - val_accuracy: 0.4989\n",
      "Epoch 99/100\n",
      "1945/1945 [==============================] - 4s 2ms/step - loss: 0.0522 - accuracy: 0.9815 - val_loss: 4.1014 - val_accuracy: 0.4925\n",
      "Epoch 100/100\n",
      "1945/1945 [==============================] - 3s 2ms/step - loss: 0.0504 - accuracy: 0.9841 - val_loss: 4.0661 - val_accuracy: 0.4733\n"
     ]
    },
    {
     "data": {
      "text/plain": [
       "<keras.callbacks.callbacks.History at 0x12fc92dd0>"
      ]
     },
     "execution_count": 10,
     "metadata": {},
     "output_type": "execute_result"
    }
   ],
   "source": [
    "BATCH_SIZE = 32\n",
    "EPOCHS = 100\n",
    "\n",
    "model.fit(X_train, y_train,\n",
    "          batch_size=BATCH_SIZE,\n",
    "          epochs=EPOCHS,\n",
    "          verbose=1,\n",
    "          validation_data=(X_test, y_test))"
   ]
  },
  {
   "cell_type": "code",
   "execution_count": null,
   "metadata": {},
   "outputs": [],
   "source": [
    "import matplotlib.pyplot as plt\n",
    "plt.figure(figsize=(10,10))\n",
    "plt.plot(model.predict(X_test), color = 'r')\n",
    "plt.grid()\n",
    "plt.plot(y_test)"
   ]
  },
  {
   "cell_type": "code",
   "execution_count": null,
   "metadata": {},
   "outputs": [],
   "source": [
    "plt.plot(y_test)"
   ]
  },
  {
   "cell_type": "code",
   "execution_count": null,
   "metadata": {},
   "outputs": [],
   "source": [
    "X_test = X_test.reshape(X_test.shape[0],21,21,1).shape"
   ]
  },
  {
   "cell_type": "code",
   "execution_count": null,
   "metadata": {
    "pycharm": {
     "name": "#%%\n"
    }
   },
   "outputs": [],
   "source": [
    "data_df[\"temp\"] = np.append([np.nan], data_df['close'][:-1],)\n",
    "data_df = data_df.dropna()\n",
    "\n",
    "\n"
   ]
  }
 ],
 "metadata": {
  "kernelspec": {
   "display_name": "Python 3",
   "language": "python",
   "name": "python3"
  },
  "language_info": {
   "codemirror_mode": {
    "name": "ipython",
    "version": 3
   },
   "file_extension": ".py",
   "mimetype": "text/x-python",
   "name": "python",
   "nbconvert_exporter": "python",
   "pygments_lexer": "ipython3",
   "version": "3.7.4"
  },
  "pycharm": {
   "stem_cell": {
    "cell_type": "raw",
    "source": [],
    "metadata": {
     "collapsed": false
    }
   }
  }
 },
 "nbformat": 4,
 "nbformat_minor": 4
}