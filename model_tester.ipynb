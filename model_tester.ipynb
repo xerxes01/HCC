{
 "cells": [
  {
   "cell_type": "code",
   "execution_count": 1,
   "metadata": {},
   "outputs": [
    {
     "name": "stderr",
     "output_type": "stream",
     "text": [
      "Using TensorFlow backend.\n"
     ]
    }
   ],
   "source": [
    "from keras.models import Sequential\n",
    "from keras.layers import Convolution1D, MaxPooling1D,AveragePooling1D, Dense, Conv1D\n",
    "from keras.optimizers import RMSprop, Adam, SGD, Nadam\n",
    "from keras.layers.normalization import BatchNormalization\n",
    "from keras.layers.core import Dense, Dropout, Activation, Flatten\n",
    "import util.DataUtil as data_util\n",
    "from dataLayer.DataLayer import DataLayer\n",
    "import util.Constants as Constants\n",
    "import numpy as np\n",
    "import pandas as pd\n",
    "from sklearn.model_selection import train_test_split\n",
    "\n",
    "\n",
    "class oneD_CNN():\n",
    "\n",
    "    def __init__(self):\n",
    "        self.model = self.create_model()\n",
    "        self.data_layer = DataLayer()\n",
    "        self.data = self.data_layer.get_data_with_indicators()\n",
    "        self.class_target = self.data_layer.get_classification_target()\n",
    "        self.regression_target = self.data_layer.get_regression_target()\n",
    "\n",
    "    def prepare_data(self):\n",
    "        data = self.data\n",
    "        target = self.regression_target\n",
    "        print (data.shape , target.shape)\n",
    "        #x_train, y_train, x_test, y_test = data_util.split_train_testy_test(data,target,split_train_ratio =  Constants.SPLIT_TRAIN_RATIO)\n",
    "        x_train, y_train, x_test, y_test = train_test_split(data, target, test_size = 0.2)\n",
    "        print (\"number of training samples\", str(y_train.shape))\n",
    "        print (\"validation samples\", str(y_test.shape))\n",
    "        x_train = np.asarray(x_train)\n",
    "        x_test = np.asarray(x_test)\n",
    "        x_train = np.reshape(x_train,(x_train.shape[0],x_train.shape[1],1))\n",
    "        x_test = np.reshape(x_test, (x_test.shape[0], x_test.shape[1], 1))\n",
    "        return x_train, y_train, x_test, y_test\n",
    "\n",
    "    def create_model(self):\n",
    "        model = Sequential()\n",
    "        model.add(Conv1D(filters=128, kernel_size=3, activation='relu', input_shape=(35, 1)))\n",
    "        model.add(BatchNormalization())\n",
    "        model.add(AveragePooling1D(pool_size=2))\n",
    "        model.add(Dropout(0.2))\n",
    "\n",
    "        model.add(Conv1D(filters=128, kernel_size=3, activation='relu'))\n",
    "        model.add(BatchNormalization())\n",
    "        model.add(AveragePooling1D(pool_size=2))\n",
    "        model.add(Dropout(0.2))\n",
    "\n",
    "        model.add(Flatten())\n",
    "        model.add(Dense(1, activation='linear'))\n",
    "        return model\n",
    "\n",
    "    def compile_model(self,model):\n",
    "        model.compile(loss=\"mae\", optimizer=\"adam\", metrics=[\"accuracy\"])\n",
    "\n",
    "    def train_model(self, x_train, y_train, x_test, y_test,model):\n",
    "        print('x_train', x_train.shape, 'y_train',y_train.shape,  'x_test', x_test.shape, 'y_test', y_test.shape)\n",
    "        print('train model', x_train.shape, y_train.shape)\n",
    "        batch_size = 32\n",
    "        epochs = 100\n",
    "\n",
    "        model.fit(x_train, y_train, batch_size=batch_size, epochs=epochs, verbose=1,\n",
    "                       validation_data=(x_test, y_test))\n",
    " \n",
    "\n",
    "    def accuracy_metrics(self,model,y_test,x_test):\n",
    "        \n",
    "        pred_df = pd.DataFrame(columns=['actual', 'predicted'])\n",
    "        \n",
    "        pred_df['actual'] = y_test\n",
    "        pred_df['predicted'] = model.predict(x_test)\n",
    "        pred_df['true_positive'] = np.zeros(len(pred_df))\n",
    "        pred_df['false_positive'] = np.zeros(len(pred_df))\n",
    "        pred_df['true_negative'] = np.zeros(len(pred_df))\n",
    "        pred_df['false_negative'] = np.zeros(len(pred_df))\n",
    "        for i in range(len(pred_df)):\n",
    "            if (pred_df.iloc[i, 0] < 0) and (pred_df.iloc[i, 1] < 0):\n",
    "                pred_df.iloc[i, 4] = 1\n",
    "            elif (pred_df.iloc[i, 0] > 0) and (pred_df.iloc[i, 1] > 0):\n",
    "                pred_df.iloc[i, 2] = 1\n",
    "            elif (pred_df.iloc[i, 0] < 0) and (pred_df.iloc[i, 1] > 0):\n",
    "                pred_df.iloc[i, 3] = 1\n",
    "            elif (pred_df.iloc[i, 0] > 0) and (pred_df.iloc[i, 1] < 0):\n",
    "                pred_df.iloc[i, 5] = 1\n",
    "        print('The number of true positives is {}'.format(sum(pred_df.loc[:, 'true_positive'])))\n",
    "        print('The number of false positives is {}'.format(sum(pred_df.loc[:, 'false_positive'])))\n",
    "        print('The number of true negatives is {}'.format(sum(pred_df.loc[:, 'true_negative'])))\n",
    "        print('The number of false negatives is {}'.format(sum(pred_df.loc[:, 'false_negative'])))\n",
    "\n",
    "    def run_model(self):\n",
    "        x_train, y_train, x_test, y_test = self.prepare_data()\n",
    "        model = self.create_model()\n",
    "        self.compile_model(model)\n",
    "        print(x_train.shape, y_train.shape, x_test.shape, y_test.shape)\n",
    "        self.train_model(x_train, y_train, x_test, y_test,model)\n",
    "        self.accuracy_metrics(model,y_test,x_test)"
   ]
  },
  {
   "cell_type": "code",
   "execution_count": 2,
   "metadata": {},
   "outputs": [
    {
     "name": "stdout",
     "output_type": "stream",
     "text": [
      "----- Done SMA: Output Shape (2710, 2) -----\n",
      "----- Done EMA: Output Shape (2710, 1) -----\n",
      "----- Done Momentum: Output Shape (2710, 1) -----\n",
      "----- Done Stochastic RSI: Output Shape (2710, 2) -----\n",
      "----- Done ROC: Output Shape (2710, 1) -----\n",
      "----- Done BB: Output Shape (2710, 3) -----\n",
      "----- Done MACD: Output Shape (2710, 3) -----\n",
      "----- Done AD Oscillator: Output Shape (2710, 1) -----\n",
      "----- Done CCI: Output Shape (2710, 1) -----\n",
      "----- Done FFT: Output Shape (2710, 4) -----\n",
      "----- Done ATR: Output Shape (2710, 1) -----\n",
      "Shape of the dataframe with indicators: (2710, 20)\n",
      "Shape of the dataframe after adding deviations: (2710, 27)\n",
      "Shape after adding all indicators: (2458, 32)\n",
      "Shape after adding LR: (2457, 35)\n",
      "Shape of the normalised datset: (2457, 35)\n",
      "Shape of Regression Target: (2456,)\n",
      "Shape of Classification Target: (2456,)\n"
     ]
    }
   ],
   "source": [
    "model=oneD_CNN()"
   ]
  },
  {
   "cell_type": "code",
   "execution_count": 3,
   "metadata": {},
   "outputs": [
    {
     "name": "stdout",
     "output_type": "stream",
     "text": [
      "(2456, 35) (2456,)\n",
      "number of training samples (492, 35)\n",
      "validation samples (492,)\n"
     ]
    },
    {
     "ename": "IndexError",
     "evalue": "tuple index out of range",
     "output_type": "error",
     "traceback": [
      "\u001b[0;31m---------------------------------------------------------------------------\u001b[0m",
      "\u001b[0;31mIndexError\u001b[0m                                Traceback (most recent call last)",
      "\u001b[0;32m<ipython-input-3-352a0a2573c2>\u001b[0m in \u001b[0;36m<module>\u001b[0;34m\u001b[0m\n\u001b[0;32m----> 1\u001b[0;31m \u001b[0mmodel\u001b[0m\u001b[0;34m.\u001b[0m\u001b[0mrun_model\u001b[0m\u001b[0;34m(\u001b[0m\u001b[0;34m)\u001b[0m\u001b[0;34m\u001b[0m\u001b[0;34m\u001b[0m\u001b[0m\n\u001b[0m",
      "\u001b[0;32m<ipython-input-1-10b27da12fa7>\u001b[0m in \u001b[0;36mrun_model\u001b[0;34m(self)\u001b[0m\n\u001b[1;32m     89\u001b[0m \u001b[0;34m\u001b[0m\u001b[0m\n\u001b[1;32m     90\u001b[0m     \u001b[0;32mdef\u001b[0m \u001b[0mrun_model\u001b[0m\u001b[0;34m(\u001b[0m\u001b[0mself\u001b[0m\u001b[0;34m)\u001b[0m\u001b[0;34m:\u001b[0m\u001b[0;34m\u001b[0m\u001b[0;34m\u001b[0m\u001b[0m\n\u001b[0;32m---> 91\u001b[0;31m         \u001b[0mx_train\u001b[0m\u001b[0;34m,\u001b[0m \u001b[0my_train\u001b[0m\u001b[0;34m,\u001b[0m \u001b[0mx_test\u001b[0m\u001b[0;34m,\u001b[0m \u001b[0my_test\u001b[0m \u001b[0;34m=\u001b[0m \u001b[0mself\u001b[0m\u001b[0;34m.\u001b[0m\u001b[0mprepare_data\u001b[0m\u001b[0;34m(\u001b[0m\u001b[0;34m)\u001b[0m\u001b[0;34m\u001b[0m\u001b[0;34m\u001b[0m\u001b[0m\n\u001b[0m\u001b[1;32m     92\u001b[0m         \u001b[0mmodel\u001b[0m \u001b[0;34m=\u001b[0m \u001b[0mself\u001b[0m\u001b[0;34m.\u001b[0m\u001b[0mcreate_model\u001b[0m\u001b[0;34m(\u001b[0m\u001b[0;34m)\u001b[0m\u001b[0;34m\u001b[0m\u001b[0;34m\u001b[0m\u001b[0m\n\u001b[1;32m     93\u001b[0m         \u001b[0mself\u001b[0m\u001b[0;34m.\u001b[0m\u001b[0mcompile_model\u001b[0m\u001b[0;34m(\u001b[0m\u001b[0mmodel\u001b[0m\u001b[0;34m)\u001b[0m\u001b[0;34m\u001b[0m\u001b[0;34m\u001b[0m\u001b[0m\n",
      "\u001b[0;32m<ipython-input-1-10b27da12fa7>\u001b[0m in \u001b[0;36mprepare_data\u001b[0;34m(self)\u001b[0m\n\u001b[1;32m     32\u001b[0m         \u001b[0mx_test\u001b[0m \u001b[0;34m=\u001b[0m \u001b[0mnp\u001b[0m\u001b[0;34m.\u001b[0m\u001b[0masarray\u001b[0m\u001b[0;34m(\u001b[0m\u001b[0mx_test\u001b[0m\u001b[0;34m)\u001b[0m\u001b[0;34m\u001b[0m\u001b[0;34m\u001b[0m\u001b[0m\n\u001b[1;32m     33\u001b[0m         \u001b[0mx_train\u001b[0m \u001b[0;34m=\u001b[0m \u001b[0mnp\u001b[0m\u001b[0;34m.\u001b[0m\u001b[0mreshape\u001b[0m\u001b[0;34m(\u001b[0m\u001b[0mx_train\u001b[0m\u001b[0;34m,\u001b[0m\u001b[0;34m(\u001b[0m\u001b[0mx_train\u001b[0m\u001b[0;34m.\u001b[0m\u001b[0mshape\u001b[0m\u001b[0;34m[\u001b[0m\u001b[0;36m0\u001b[0m\u001b[0;34m]\u001b[0m\u001b[0;34m,\u001b[0m\u001b[0mx_train\u001b[0m\u001b[0;34m.\u001b[0m\u001b[0mshape\u001b[0m\u001b[0;34m[\u001b[0m\u001b[0;36m1\u001b[0m\u001b[0;34m]\u001b[0m\u001b[0;34m,\u001b[0m\u001b[0;36m1\u001b[0m\u001b[0;34m)\u001b[0m\u001b[0;34m)\u001b[0m\u001b[0;34m\u001b[0m\u001b[0;34m\u001b[0m\u001b[0m\n\u001b[0;32m---> 34\u001b[0;31m         \u001b[0mx_test\u001b[0m \u001b[0;34m=\u001b[0m \u001b[0mnp\u001b[0m\u001b[0;34m.\u001b[0m\u001b[0mreshape\u001b[0m\u001b[0;34m(\u001b[0m\u001b[0mx_test\u001b[0m\u001b[0;34m,\u001b[0m \u001b[0;34m(\u001b[0m\u001b[0mx_test\u001b[0m\u001b[0;34m.\u001b[0m\u001b[0mshape\u001b[0m\u001b[0;34m[\u001b[0m\u001b[0;36m0\u001b[0m\u001b[0;34m]\u001b[0m\u001b[0;34m,\u001b[0m \u001b[0mx_test\u001b[0m\u001b[0;34m.\u001b[0m\u001b[0mshape\u001b[0m\u001b[0;34m[\u001b[0m\u001b[0;36m1\u001b[0m\u001b[0;34m]\u001b[0m\u001b[0;34m,\u001b[0m \u001b[0;36m1\u001b[0m\u001b[0;34m)\u001b[0m\u001b[0;34m)\u001b[0m\u001b[0;34m\u001b[0m\u001b[0;34m\u001b[0m\u001b[0m\n\u001b[0m\u001b[1;32m     35\u001b[0m         \u001b[0;32mreturn\u001b[0m \u001b[0mx_train\u001b[0m\u001b[0;34m,\u001b[0m \u001b[0my_train\u001b[0m\u001b[0;34m,\u001b[0m \u001b[0mx_test\u001b[0m\u001b[0;34m,\u001b[0m \u001b[0my_test\u001b[0m\u001b[0;34m\u001b[0m\u001b[0;34m\u001b[0m\u001b[0m\n\u001b[1;32m     36\u001b[0m \u001b[0;34m\u001b[0m\u001b[0m\n",
      "\u001b[0;31mIndexError\u001b[0m: tuple index out of range"
     ]
    }
   ],
   "source": [
    "model.run_model()"
   ]
  },
  {
   "cell_type": "code",
   "execution_count": null,
   "metadata": {},
   "outputs": [],
   "source": []
  }
 ],
 "metadata": {
  "kernelspec": {
   "display_name": "Python 3",
   "language": "python",
   "name": "python3"
  },
  "language_info": {
   "codemirror_mode": {
    "name": "ipython",
    "version": 3
   },
   "file_extension": ".py",
   "mimetype": "text/x-python",
   "name": "python",
   "nbconvert_exporter": "python",
   "pygments_lexer": "ipython3",
   "version": "3.7.4"
  }
 },
 "nbformat": 4,
 "nbformat_minor": 4
}
